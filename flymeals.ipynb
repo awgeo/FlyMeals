{
  "cells": [
    {
      "metadata": {
        "trusted": true
      },
      "cell_type": "code",
      "source": "import pandas as pd\nimport numpy as np\nfrom collections import defaultdict\nfrom IPython.display import HTML\n\n\ndef input_galleys():\n    '''\n    Ask user for number of galleys (int, ensure 1 or more).\n    Create a list appending each galley numbered: Galley 1, Galley 2, etc.\n    '''\n    #####global num_galleys\n    while True:\n        try:\n            num_galleys = int(input('Number of galleys: '))\n            if num_galleys >= 1:\n                break            \n        except ValueError:\n            print(\"Invalid entry. Enter a number.\")   \n        else:\n            if num_galleys < 1:\n                print(\"You must have at least 1 galley. Try again.\")\n    \n    count_galleys = 0\n    global list_galleys\n    list_galleys = []\n    \n    while count_galleys < num_galleys:\n        count_galleys += 1\n        list_galleys.append('Galley ' + str(count_galleys))\n    else:\n        print(list_galleys)\n        \ninput_galleys()\nlist_galleys_string = ', '.join(list_galleys)\n\n\ndef input_services():\n    '''\n    Ask user for number of services per galley (ensure int, 1 or more)\n    Create a list appending each service numbered: Service 1, Service 2, etc.\n    '''\n    #####global num_services\n    while True:\n        try:\n            num_services = int(input('Number of services: '))\n            if num_services >= 1:\n                break            \n        except ValueError:\n            print(\"Invalid entry. Type whole number.\")   \n        else:\n            if num_services < 1:\n                print(\"You must have at least 1 service. Try again.\")\n\n    count_services = 0\n    global list_services\n    list_services = []\n    \n    while count_services < num_services:\n        count_services += 1\n        list_services.append('Service ' + str(count_services))\n    else:\n        print(list_services)\n        \ninput_services()\nlist_services_string = ', '.join(list_services)\n\n\ndef input_codes():\n    '''\n    Ask user for the number of codes onboard, then ask for a code to assign to each.\n    Create a list appending each codes: J, W, Y.\n    '''\n    while True:\n        try:\n            num_codes = int(input('Number of codes: '))\n            if num_codes >= 1:\n                break            \n        except ValueError:\n            print(\"Invalid entry. Enter a number.\")   \n        else:\n            if num_codes < 1:\n                print(\"You must have at least 1 code. Try again.\")\n    \n    global named_codes\n    named_codes = []\n\n    for i in range(0, num_codes):\n        code = str(input('Enter a name for one code of service: ').upper())\n        named_codes.append(code)\n        \n    print(named_codes)\n    \ninput_codes()\nnamed_codes_string = ', '.join(named_codes)\n    \n\n'''\nInitialize MultiIndex (hierarchical index) object, i.e. an array of tuples where each tuple is unique.\nFor every pairing of the elements in two iterables, easier to use the MultiIndex.from_product() method, \ni.e.  a crossed set of iterables. Makes a MultiIndex from the cartesian product of multiple iterables.\n'''\nindex = pd.MultiIndex.from_product([list_galleys, list_services, named_codes], names=['GALLEY', 'SERVICE', 'CODE'])\n\n\n#Create empty dictionary to populate with number of carts and ovens based on user input.\n#e.g. Oven 1 contains 32 hot meals and Cart 1 contains 32 Lay ups.\n#d = {'Hot meals': [{}], 'Lay ups': [{}]}\n\n\nd = {'Hot meals': [{}], 'Lay ups': [{}]}\n# 'Totals': [{'HM Totals': 0, 'LU Totals': 0}]\n\n\ndef input_ovens(): \n    '''\n    '''\n    ######global num_ovens\n    while True:\n        try:\n            num_ovens = int(input('Number of ovens per galley: '))\n            if num_ovens >= 1:\n                break            \n        except ValueError:\n            print(\"Invalid entry. Type whole number.\")   \n        else:\n            if num_ovens < 1:\n                print(\"You must have at least 1 oven. Try again.\")\n\n    count_ovens = 0\n    global list_ovens\n    list_ovens = [] #new\n    \n    while count_ovens < num_ovens:\n        count_ovens += 1\n        list_ovens.append('Oven ' + str(count_ovens))\n        x = 'Oven ' + str(count_ovens)\n        d['Hot meals'][0][x] = int(0)\n    else:\n        print(list_ovens)\n        \ninput_ovens()\nlist_ovens_string = ', '.join(list_ovens)\n\n\ndef input_carts():      \n    '''\n    '''\n    #######global num_carts\n    while True:\n        try:\n            num_carts = int(input('Number of carts per galley: '))\n            if num_carts >= 1:\n                break            \n        except ValueError:\n            print(\"Invalid entry. Type whole number.\")   \n        else:\n            if num_carts < 1:\n                print(\"You must have at least 1 cart. Try again.\")\n\n    count_carts = 0\n    global list_carts\n    list_carts = [] #new\n    \n    while count_carts < num_carts:\n        count_carts += 1\n        list_carts.append('Cart ' + str(count_carts))\n        x = 'Cart ' + str(count_carts)\n        d['Lay ups'][0][x] = int(0)\n    else:\n        print(list_carts)\n        \ninput_carts()\nlist_carts_string = ', '.join(list_carts)\n\n\ndef input_totals():\n    pass\n    #d['Totals'][0][x] = sum() #does not work as string\n\n\n#Pass dictionary and index to form DataFrame.\ndf = pd.DataFrame(data = d, index = index, dtype='int32')\n\n#df = pd.DataFrame(data = df[['Hot meals', 'Lay ups']], index = index)\n#[df['Lay ups'].tolist()]\n#.tolist()\n#, dtype='int32'\n\n#hm_totals = df.sum(axis=0)\n#lu_totals = df.sum(axis=0)\n\n#e.g. pd.DataFrame([[1, 2], [4, 5]], index=['cobra', 'viper', 'sidewinder'], columns=['max_speed', 'shield'])\n#Possible to set index separately using: df = df.set_index(['GALLEY', 'SERVICE', 'CODE'])?",
      "execution_count": 1,
      "outputs": [
        {
          "output_type": "stream",
          "name": "stdout",
          "text": "Number of galleys: 2\n['Galley 1', 'Galley 2']\nNumber of services: 2\n['Service 1', 'Service 2']\nNumber of codes: 2\nPlease enter a name for one code of service: j\nPlease enter a name for one code of service: k\n['J', 'K']\nNumber of ovens per galley: 3\n['Oven 1', 'Oven 2', 'Oven 3']\nNumber of carts per galley: 3\n['Cart 1', 'Cart 2', 'Cart 3']\n"
        }
      ]
    },
    {
      "metadata": {
        "trusted": true
      },
      "cell_type": "code",
      "source": "# check the dictionary\nd = {'Hot meals': [{'Oven 1': 1, 'Oven 2': 2}],\n     'Lay ups': [{'Cart 1': 3, 'Cart 2': 4, 'Cart 3': 5}]}\nd",
      "execution_count": 2,
      "outputs": [
        {
          "output_type": "execute_result",
          "execution_count": 2,
          "data": {
            "text/plain": "{'Hot meals': [{'Oven 1': 1, 'Oven 2': 2}],\n 'Lay ups': [{'Cart 1': 3, 'Cart 2': 4, 'Cart 3': 5}]}"
          },
          "metadata": {}
        }
      ]
    },
    {
      "metadata": {
        "trusted": true
      },
      "cell_type": "code",
      "source": "#df['Hot meals'].map(eval)\n#df['Hot meals'].apply(pd.Series)",
      "execution_count": 9,
      "outputs": []
    },
    {
      "metadata": {
        "trusted": true
      },
      "cell_type": "code",
      "source": "index",
      "execution_count": 3,
      "outputs": [
        {
          "output_type": "execute_result",
          "execution_count": 3,
          "data": {
            "text/plain": "MultiIndex(levels=[['Galley 1', 'Galley 2'], ['Service 1', 'Service 2'], ['J', 'K']],\n           labels=[[0, 0, 0, 0, 1, 1, 1, 1], [0, 0, 1, 1, 0, 0, 1, 1], [0, 1, 0, 1, 0, 1, 0, 1]],\n           names=['GALLEY', 'SERVICE', 'CODE'])"
          },
          "metadata": {}
        }
      ]
    },
    {
      "metadata": {
        "trusted": true
      },
      "cell_type": "code",
      "source": "#Unpack dictionary to form separate columns in dataframe\ndf_hotmeals = pd.DataFrame(df['Hot meals'].tolist(), index=index)\ndf_layups = pd.DataFrame(df['Lay ups'].tolist(), index=index)\n\n#Merge both df and a Totals column, though ideally want two - one for Hot Meals and one for Lay Ups.\ndf_merge = pd.concat([df_hotmeals,df_layups], axis=1)\ndf_merge\n\n#df_totals\n#df_totals = pd.DataFrame(df['Totals'].tolist(), index=index)\n#df_merge.loc['Total']= df.sum()\n#df_totals = pd.DataFrame(df['Totals'].tolist(), index=index)\n#df_merge.join(df_merge.div(df_merge['sum'], axis=0), rsuffix='_perc')\n#df_merge = pd.concat([df_hotmeals, df_layups], axis=1)\n#df_merge = pd.concat([df_merge,pd.DataFrame(df.sum(axis=1), columns=['Total'])], axis=1)\n#df_merge = pd.concat([df_hotmeals,df_layups,pd.DataFrame(df.sum(axis=1), columns=['Total'])], axis=1)\n\n#STYLE IS CAUSING DICTS TO WRAP\n#df.style\n\n#Print to Excel\n#from pandas import ExcelWriter\n#from pandas import ExcelFile\n#writer = ExcelWriter('Pandas-Example2.xlsx')\n#df_merge.to_excel(writer,'Sheet1',index=True)\n#writer.save()",
      "execution_count": 4,
      "outputs": [
        {
          "output_type": "execute_result",
          "execution_count": 4,
          "data": {
            "text/html": "<div>\n<style scoped>\n    .dataframe tbody tr th:only-of-type {\n        vertical-align: middle;\n    }\n\n    .dataframe tbody tr th {\n        vertical-align: top;\n    }\n\n    .dataframe thead th {\n        text-align: right;\n    }\n</style>\n<table border=\"1\" class=\"dataframe\">\n  <thead>\n    <tr style=\"text-align: right;\">\n      <th></th>\n      <th></th>\n      <th></th>\n      <th>Oven 1</th>\n      <th>Oven 2</th>\n      <th>Oven 3</th>\n      <th>Cart 1</th>\n      <th>Cart 2</th>\n      <th>Cart 3</th>\n    </tr>\n    <tr>\n      <th>GALLEY</th>\n      <th>SERVICE</th>\n      <th>CODE</th>\n      <th></th>\n      <th></th>\n      <th></th>\n      <th></th>\n      <th></th>\n      <th></th>\n    </tr>\n  </thead>\n  <tbody>\n    <tr>\n      <th rowspan=\"4\" valign=\"top\">Galley 1</th>\n      <th rowspan=\"2\" valign=\"top\">Service 1</th>\n      <th>J</th>\n      <td>0</td>\n      <td>0</td>\n      <td>0</td>\n      <td>0</td>\n      <td>0</td>\n      <td>0</td>\n    </tr>\n    <tr>\n      <th>K</th>\n      <td>0</td>\n      <td>0</td>\n      <td>0</td>\n      <td>0</td>\n      <td>0</td>\n      <td>0</td>\n    </tr>\n    <tr>\n      <th rowspan=\"2\" valign=\"top\">Service 2</th>\n      <th>J</th>\n      <td>0</td>\n      <td>0</td>\n      <td>0</td>\n      <td>0</td>\n      <td>0</td>\n      <td>0</td>\n    </tr>\n    <tr>\n      <th>K</th>\n      <td>0</td>\n      <td>0</td>\n      <td>0</td>\n      <td>0</td>\n      <td>0</td>\n      <td>0</td>\n    </tr>\n    <tr>\n      <th rowspan=\"4\" valign=\"top\">Galley 2</th>\n      <th rowspan=\"2\" valign=\"top\">Service 1</th>\n      <th>J</th>\n      <td>0</td>\n      <td>0</td>\n      <td>0</td>\n      <td>0</td>\n      <td>0</td>\n      <td>0</td>\n    </tr>\n    <tr>\n      <th>K</th>\n      <td>0</td>\n      <td>0</td>\n      <td>0</td>\n      <td>0</td>\n      <td>0</td>\n      <td>0</td>\n    </tr>\n    <tr>\n      <th rowspan=\"2\" valign=\"top\">Service 2</th>\n      <th>J</th>\n      <td>0</td>\n      <td>0</td>\n      <td>0</td>\n      <td>0</td>\n      <td>0</td>\n      <td>0</td>\n    </tr>\n    <tr>\n      <th>K</th>\n      <td>0</td>\n      <td>0</td>\n      <td>0</td>\n      <td>0</td>\n      <td>0</td>\n      <td>0</td>\n    </tr>\n  </tbody>\n</table>\n</div>",
            "text/plain": "                         Oven 1  Oven 2  Oven 3  Cart 1  Cart 2  Cart 3\nGALLEY   SERVICE   CODE                                                \nGalley 1 Service 1 J          0       0       0       0       0       0\n                   K          0       0       0       0       0       0\n         Service 2 J          0       0       0       0       0       0\n                   K          0       0       0       0       0       0\nGalley 2 Service 1 J          0       0       0       0       0       0\n                   K          0       0       0       0       0       0\n         Service 2 J          0       0       0       0       0       0\n                   K          0       0       0       0       0       0"
          },
          "metadata": {}
        }
      ]
    },
    {
      "metadata": {
        "trusted": true
      },
      "cell_type": "code",
      "source": "def update():\n    '''\n    Update values for an oven ('Hot meals') and cart ('Lay ups') within a particular galley/service/code.\n    '''\n    #GALLEY\n    while True:\n        try:\n            galley_input = input('Galley: ')\n            galley = 'Galley ' + str(galley_input)\n            if galley in list_galleys:\n                break\n            if galley not in list_galleys:\n                raise Exception\n        except Exception:\n            print(\"This galley is not recognised. Enter one of: {}.\".format(list_galleys_string))\n    \n    #SERVICE\n    while True:\n        try:\n            service_input = input('Service: ')\n            service = 'Service ' + str(service_input)\n            if service in list_services:\n                break\n            if service not in list_services:\n                raise Exception\n        except Exception:\n            print(\"This service is not recognised. Enter one of: {}.\".format(list_services_string))\n    \n    #CODE\n    while True:\n        try:\n            code = str(input('Code: ').upper())\n            if code in named_codes:\n                print('You are now editing {} - {} - Code {}.'.format(galley, service, code))\n                break\n            if code not in named_codes:\n                raise Exception\n        except Exception:\n            print(\"This code is not recognised. Enter one of: {}.\".format(named_codes_string))\n                   \n    #OVEN AND VALUE\n    while True:\n        try:\n            oven_input = input('Oven: ')\n            oven = 'Oven ' + str(oven_input)\n            if oven in list_ovens:\n                break\n            if oven not in list_ovens:\n                raise Exception\n        except Exception:\n            print(\"This oven is not recognised. Enter one of: {}.\".format(list_ovens_string))\n            \n    oven_value = input('Value: ')\n    df_merge.loc[(galley, service, code), oven] = (int(oven_value))\n    \n    #CART AND VALUE\n    while True:\n        try:\n            cart_input = input('Cart: ')\n            cart = 'Cart ' + str(cart_input)\n            if cart in list_carts:\n                break\n            if cart not in list_carts:\n                raise Exception\n        except Exception:\n            print(\"This cart is not recognised. Enter one of: {}.\".format(list_carts_string))    \n    \n    cart_value = input('Value: ')    \n    df_merge.loc[(galley, service, code), cart] = (int(cart_value)) \n    \n    #Show what has just been updated.\n    #print(\"You have updated {} - {} - Class {}: {} has {} hot meals and {} has {} lay ups.\").format(galley, service, code, oven, oven_value, cart, cart_value)\n    #return(pd.Series({'Galley': galley, 'Service': service, 'Code': code, 'Hot meals': oven_value, 'Lay ups': cart_value}))\n    #print(df_merge)\n\nupdate()\n\ndf_merge['Total']=df_merge.sum(axis=1)\ndf_merge\n\n#capture error if non-numerical value entered for hotmeal-value or layup-value.",
      "execution_count": 5,
      "outputs": [
        {
          "output_type": "stream",
          "name": "stdout",
          "text": "Galley: 2\nService: 1\nCode: j\nYou are now editing Galley 2 - Service 1 - Code J.\nOven: 2\nValue: 34\nCart: 2\nValue: 45\n"
        },
        {
          "output_type": "execute_result",
          "execution_count": 5,
          "data": {
            "text/html": "<div>\n<style scoped>\n    .dataframe tbody tr th:only-of-type {\n        vertical-align: middle;\n    }\n\n    .dataframe tbody tr th {\n        vertical-align: top;\n    }\n\n    .dataframe thead th {\n        text-align: right;\n    }\n</style>\n<table border=\"1\" class=\"dataframe\">\n  <thead>\n    <tr style=\"text-align: right;\">\n      <th></th>\n      <th></th>\n      <th></th>\n      <th>Oven 1</th>\n      <th>Oven 2</th>\n      <th>Oven 3</th>\n      <th>Cart 1</th>\n      <th>Cart 2</th>\n      <th>Cart 3</th>\n      <th>Total</th>\n    </tr>\n    <tr>\n      <th>GALLEY</th>\n      <th>SERVICE</th>\n      <th>CODE</th>\n      <th></th>\n      <th></th>\n      <th></th>\n      <th></th>\n      <th></th>\n      <th></th>\n      <th></th>\n    </tr>\n  </thead>\n  <tbody>\n    <tr>\n      <th rowspan=\"4\" valign=\"top\">Galley 1</th>\n      <th rowspan=\"2\" valign=\"top\">Service 1</th>\n      <th>J</th>\n      <td>0</td>\n      <td>0</td>\n      <td>0</td>\n      <td>0</td>\n      <td>0</td>\n      <td>0</td>\n      <td>0</td>\n    </tr>\n    <tr>\n      <th>K</th>\n      <td>0</td>\n      <td>0</td>\n      <td>0</td>\n      <td>0</td>\n      <td>0</td>\n      <td>0</td>\n      <td>0</td>\n    </tr>\n    <tr>\n      <th rowspan=\"2\" valign=\"top\">Service 2</th>\n      <th>J</th>\n      <td>0</td>\n      <td>0</td>\n      <td>0</td>\n      <td>0</td>\n      <td>0</td>\n      <td>0</td>\n      <td>0</td>\n    </tr>\n    <tr>\n      <th>K</th>\n      <td>0</td>\n      <td>0</td>\n      <td>0</td>\n      <td>0</td>\n      <td>0</td>\n      <td>0</td>\n      <td>0</td>\n    </tr>\n    <tr>\n      <th rowspan=\"4\" valign=\"top\">Galley 2</th>\n      <th rowspan=\"2\" valign=\"top\">Service 1</th>\n      <th>J</th>\n      <td>0</td>\n      <td>34</td>\n      <td>0</td>\n      <td>0</td>\n      <td>45</td>\n      <td>0</td>\n      <td>79</td>\n    </tr>\n    <tr>\n      <th>K</th>\n      <td>0</td>\n      <td>0</td>\n      <td>0</td>\n      <td>0</td>\n      <td>0</td>\n      <td>0</td>\n      <td>0</td>\n    </tr>\n    <tr>\n      <th rowspan=\"2\" valign=\"top\">Service 2</th>\n      <th>J</th>\n      <td>0</td>\n      <td>0</td>\n      <td>0</td>\n      <td>0</td>\n      <td>0</td>\n      <td>0</td>\n      <td>0</td>\n    </tr>\n    <tr>\n      <th>K</th>\n      <td>0</td>\n      <td>0</td>\n      <td>0</td>\n      <td>0</td>\n      <td>0</td>\n      <td>0</td>\n      <td>0</td>\n    </tr>\n  </tbody>\n</table>\n</div>",
            "text/plain": "                         Oven 1  Oven 2  Oven 3  Cart 1  Cart 2  Cart 3  Total\nGALLEY   SERVICE   CODE                                                       \nGalley 1 Service 1 J          0       0       0       0       0       0      0\n                   K          0       0       0       0       0       0      0\n         Service 2 J          0       0       0       0       0       0      0\n                   K          0       0       0       0       0       0      0\nGalley 2 Service 1 J          0      34       0       0      45       0     79\n                   K          0       0       0       0       0       0      0\n         Service 2 J          0       0       0       0       0       0      0\n                   K          0       0       0       0       0       0      0"
          },
          "metadata": {}
        }
      ]
    },
    {
      "metadata": {
        "trusted": true
      },
      "cell_type": "code",
      "source": "df_merge.dtypes",
      "execution_count": 6,
      "outputs": [
        {
          "output_type": "execute_result",
          "execution_count": 6,
          "data": {
            "text/plain": "Oven 1    int64\nOven 2    int64\nOven 3    int64\nCart 1    int64\nCart 2    int64\nCart 3    int64\nTotal     int64\ndtype: object"
          },
          "metadata": {}
        }
      ]
    },
    {
      "metadata": {
        "trusted": true
      },
      "cell_type": "code",
      "source": "#df_merge.groupby(['Galley 1','Service 1]).sum()\n#df.groupby(['GALLEY', 'SERVICE'])['Hot meals'].agg('sum')\n# df_merge.groupby(level=[0, 1, 2]).sum()\n# df_merge\n\n# df_merge.groupby(['GALLEY']).mean()\n# df\n\n# tots = df_merge.sum(axis=1)\n# tots\n\n#a = df_merge[:, 'Oven 1']\n#a\n\n# test = df_merge[:, 'Oven 1'] + df_merge[:, 'Oven 2']\n# test\n\n\n# dollars_per_unit = multi_col_lvl_df['Dollars'] / multi_col_lvl_df['Units']\n# dollars_per_unit.sample(10)\n\n# # Add a column level for our new measure\n# dollars_per_unit.columns = pd.MultiIndex.from_product([['Dollars per Unit'], dollars_per_unit.columns])\n\n# # Concat it with our original data\n# pd.concat([multi_col_lvl_df, dollars_per_unit], axis='columns').head(3)",
      "execution_count": 81,
      "outputs": []
    },
    {
      "metadata": {
        "trusted": true
      },
      "cell_type": "code",
      "source": "#df_merge.loc['Galley 2', 'Service 2', 'S']",
      "execution_count": 9,
      "outputs": []
    },
    {
      "metadata": {
        "trusted": true
      },
      "cell_type": "code",
      "source": "df_merge.loc[:'Service 1', 'Oven 1']",
      "execution_count": 7,
      "outputs": [
        {
          "output_type": "execute_result",
          "execution_count": 7,
          "data": {
            "text/plain": "GALLEY    SERVICE    CODE\nGalley 1  Service 1  J       0\n                     K       0\n          Service 2  J       0\n                     K       0\nGalley 2  Service 1  J       0\n                     K       0\n          Service 2  J       0\n                     K       0\nName: Oven 1, dtype: int64"
          },
          "metadata": {}
        }
      ]
    },
    {
      "metadata": {
        "trusted": true
      },
      "cell_type": "code",
      "source": "#df_merge['Total'] = df.sum(axis=1)\n#df_merge",
      "execution_count": null,
      "outputs": []
    },
    {
      "metadata": {
        "trusted": true
      },
      "cell_type": "code",
      "source": "#create_lists(status = 'refresh')",
      "execution_count": null,
      "outputs": []
    },
    {
      "metadata": {
        "trusted": true
      },
      "cell_type": "code",
      "source": "# def access_all_services_for_one_galley():\n#     '''\n#     Access values for a particular galley.\n#     '''\n#     access_galley_input = input('Galley: ')\n#     access_galley_num = 'Galley ' + str(access_galley_input)\n#     return df.xs((access_galley_num), level=('GALLEY'))\n#     #NEED TO ADD TOTALS\n\n    \n# def access_one_service_for_all_galleys():\n#     '''\n#     Access values for a particular service (e.g. Service 1 for all galleys)\n#     '''\n#     access_service_input = input('Service: ')\n#     access_service_num = 'Service ' + str(access_service_input)\n#     return df.xs((access_service_num), level=('SERVICE'))\n#     #NEED TO ADD TOTALS\n    \n    \n# def antonys_example_output():\n#     pass\n#     '''\n#     Service 1\n#     Hot meal total =\n#     Lay up total = \n#     Gallery 1 hot meal total = (is this just a breakdown of the above per galley?)\n#     Gallery 1 lay up total = \n#     '''\n    \n\n# def rename_galley():\n#     '''\n#     Rename a galley, e.g. 'Galley 4' to 'UD' or 'Upper Deck'.\n#     HOW WILL THIS WORK WITH FUCTIONS ABOVE. NEED TO CHECK GALLEY NAME FORMAT FIRST? '1' vs 'UD'.\n#     '''\n#     #Ask which galley to rename\n#     galley_to_rename = input('Which galley would you like to rename? Enter one number: ')\n#     galley_to_rename_full = 'Galley ' + str(galley_to_rename)'\n    \n#     #Provide new name (TO DO check that numbers/letters do not already exist?)\n#     new_galley_name = input('Provide a new name. Enter one number or code: ')\n#     new_galley_name_full = 'Galley ' + str()'\n    \n#     #Access a single galley name and perform change\n    \n#     df.xs((access_service_num), level=('GALLEY')) - similar to this?\n#     df['Hot meals'].loc[galley, service] = hotmeals_num\n    \n    \n# def totals_calculator():\n    \n#         df['Hot meals'].loc[galley, service]\n    \n    \n# #TWO BELOW ARE NOT WORKING!!!!!!!!!!!!!!!!!!!!!!!!!!!!!!!!!!!!!!!!!!!!!!!!!\n\n# # def show_galley_totals():\n# #     '''\n# #     Show totals for each Galley.\n# #     '''\n# #     galley_total = df.groupby(level=[0]).sum()\n# #     galley_total\n\n# #     #WORKING ALTERNATIVE\n# #     #galley_total = df.sum(level=[0])\n    \n    \n# # def show_service_totals():\n# #     '''\n# #     Show totals for each Service.\n# #     '''\n# #     service_total = df.groupby(level=[1]).sum()\n# #     service_total",
      "execution_count": null,
      "outputs": []
    },
    {
      "metadata": {
        "trusted": true
      },
      "cell_type": "code",
      "source": "# def zero_values_red(value):\n#     '''\n#     Highlight 0 values red, otherwise green.\n#     '''\n#     if value == 0:\n#         color = 'red'\n#     else:\n#         color = 'green'\n#     return('color: %s' % color)\n\n# df.style\n\n# (df.style\n#     .applymap(zero_values_red)\n#     .set_caption('Meal counter'))\n# #     .set_table_styles(styles))\n\n# pd.options.mode.chained_assignment = None  # default='warn'\n\n\n# def highlight_max(value):\n#     '''\n#     Highlight the maximum in a Series yellow.\n#     '''\n#     is_max = value == value.max()\n#     return ['background-color: yellow' if v else '' for v in is_max]\n\n\n# def hover(hover_color=\"red\"):\n#     return dict(selector=\"tr:hover\",\n#                 props=[(\"background-color\", \"%s\" % hover_color)])\n\n# styles = [\n#     hover(),\n#     dict(selector=\"th\", props=[(\"font-size\", \"150%\"),\n#                                (\"text-align\", \"middle\")])\n# # ]\n# # html = (df.style.set_table_styles(styles)\n# #           .set_caption(\"Hover to highlight.\"))\n# # html\n\n# th_props = [\n#     ('font-size', '13px'),\n#     ('text-align', 'center'),\n#     ('vertical-align', 'top'),\n#     ('font-weight', 'bold'),\n#     ('color', '#6d6d6d'),\n#     ('background-color', '#f7f7f9')]\n\n# # # Set CSS properties for td elements in dataframe\n# # td_props = [\n# #   ('font-size', '11px')\n# #   ]\n\n# # # Set table styles\n# # styles = [\n# #   dict(selector=\"th\", props=th_props),\n# #   dict(selector=\"td\", props=td_props)\n# #   ]\n\n#HTML(df.to_html(classes='table table-striped table-hover')",
      "execution_count": null,
      "outputs": []
    },
    {
      "metadata": {
        "trusted": true
      },
      "cell_type": "code",
      "source": "dict1 = {'galleys': \n    {'galley_1': \n        {'service_1': \n            {'code_j': [{'oven_1': 0, 'oven_2': 0, 'oven_3': 0}, \n                        {'cart_1': 0, 'cart_2': 0, 'cart_3': 0}]}}}}",
      "execution_count": 14,
      "outputs": []
    },
    {
      "metadata": {
        "trusted": true
      },
      "cell_type": "code",
      "source": "dict1",
      "execution_count": 15,
      "outputs": [
        {
          "output_type": "execute_result",
          "execution_count": 15,
          "data": {
            "text/plain": "{'galleys': {'galley_1': {'service_1': {'code_j': [{'oven_1': 0,\n      'oven_2': 0,\n      'oven_3': 0},\n     {'cart_1': 0, 'cart_2': 0, 'cart_3': 0}]}}}}"
          },
          "metadata": {}
        }
      ]
    },
    {
      "metadata": {
        "trusted": true
      },
      "cell_type": "code",
      "source": "",
      "execution_count": null,
      "outputs": []
    }
  ],
  "metadata": {
    "kernelspec": {
      "name": "python36",
      "display_name": "Python 3.6",
      "language": "python"
    },
    "language_info": {
      "mimetype": "text/x-python",
      "nbconvert_exporter": "python",
      "name": "python",
      "pygments_lexer": "ipython3",
      "version": "3.6.6",
      "file_extension": ".py",
      "codemirror_mode": {
        "version": 3,
        "name": "ipython"
      }
    }
  },
  "nbformat": 4,
  "nbformat_minor": 1
}