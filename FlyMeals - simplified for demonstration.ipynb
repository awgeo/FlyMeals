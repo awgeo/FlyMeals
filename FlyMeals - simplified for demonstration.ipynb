{
  "cells": [
    {
      "metadata": {
        "trusted": true
      },
      "cell_type": "code",
      "source": "import pandas as pd\n\n#Functions build three lists based on user input, for example:\nlist_galleys = ['Galley 1', 'Galley 2']\nlist_services = ['Service 1', 'Service 2', 'Service 3']\nlist_cabins = ['J', 'Y']\n\n#Construct multi-index dataframe from lists\nindex = pd.MultiIndex.from_product([list_galleys, list_services, list_cabins], names=['GALLEY', 'SERVICE', 'CABINS'])\n\n#Several Functions construct a dict based on user input (number of Ovens and Carts).\n#Inner dict values default to zero. A function will allow user to set individual values later.\nd = {'Hot meals': [{'Oven 1': 0, 'Oven 2': 0}],\n     'Lay ups': [{'Cart 1': 0, 'Cart 2': 0}]}\n\ndf = pd.DataFrame(data = d, index = index, dtype='int32')\n\n#Unpack dictionary to form separate columns in dataframe\ndf_hotmeals = pd.DataFrame(df['Hot meals'].tolist(), index=index)\ndf_layups = pd.DataFrame(df['Lay ups'].tolist(), index=index)\n\n#Merge both df and a Totals column, though ideally want two - one for Hot Meals and one for Lay Ups.\ndf_merge = pd.concat([df_hotmeals,df_layups], axis=1)\n\ndf_merge.loc[('Galley 1', 'Service 1', 'J'), 'Oven 1'] = (int(31))\ndf_merge.loc[('Galley 1', 'Service 1', 'J'), 'Oven 2'] = (int(8))\ndf_merge.loc[('Galley 1', 'Service 1', 'J'), 'Cart 1'] = (int(30))\ndf_merge.loc[('Galley 1', 'Service 1', 'J'), 'Cart 2'] = (int(10))\n\n#df_merge['Total'] = df_merge.sum(axis=1) # Need two Totals columns in correct position!\ndf_merge['Oven Total'] = df_merge['Oven 1'] + df_merge['Oven 2']\ndf_merge['Cart Total'] = df_merge['Cart 1'] + df_merge['Cart 2']\n\n# Need two Totals columns in correct position!\ndf_merge\n#df_merge.groupby('GALLEY')",
      "execution_count": 25,
      "outputs": [
        {
          "output_type": "execute_result",
          "execution_count": 25,
          "data": {
            "text/html": "<div>\n<style scoped>\n    .dataframe tbody tr th:only-of-type {\n        vertical-align: middle;\n    }\n\n    .dataframe tbody tr th {\n        vertical-align: top;\n    }\n\n    .dataframe thead th {\n        text-align: right;\n    }\n</style>\n<table border=\"1\" class=\"dataframe\">\n  <thead>\n    <tr style=\"text-align: right;\">\n      <th></th>\n      <th></th>\n      <th></th>\n      <th>Oven 1</th>\n      <th>Oven 2</th>\n      <th>Cart 1</th>\n      <th>Cart 2</th>\n      <th>Oven Total</th>\n      <th>Cart Total</th>\n    </tr>\n    <tr>\n      <th>GALLEY</th>\n      <th>SERVICE</th>\n      <th>CABINS</th>\n      <th></th>\n      <th></th>\n      <th></th>\n      <th></th>\n      <th></th>\n      <th></th>\n    </tr>\n  </thead>\n  <tbody>\n    <tr>\n      <th rowspan=\"6\" valign=\"top\">Galley 1</th>\n      <th rowspan=\"2\" valign=\"top\">Service 1</th>\n      <th>J</th>\n      <td>31</td>\n      <td>8</td>\n      <td>30</td>\n      <td>10</td>\n      <td>39</td>\n      <td>40</td>\n    </tr>\n    <tr>\n      <th>Y</th>\n      <td>0</td>\n      <td>0</td>\n      <td>0</td>\n      <td>0</td>\n      <td>0</td>\n      <td>0</td>\n    </tr>\n    <tr>\n      <th rowspan=\"2\" valign=\"top\">Service 2</th>\n      <th>J</th>\n      <td>0</td>\n      <td>0</td>\n      <td>0</td>\n      <td>0</td>\n      <td>0</td>\n      <td>0</td>\n    </tr>\n    <tr>\n      <th>Y</th>\n      <td>0</td>\n      <td>0</td>\n      <td>0</td>\n      <td>0</td>\n      <td>0</td>\n      <td>0</td>\n    </tr>\n    <tr>\n      <th rowspan=\"2\" valign=\"top\">Service 3</th>\n      <th>J</th>\n      <td>0</td>\n      <td>0</td>\n      <td>0</td>\n      <td>0</td>\n      <td>0</td>\n      <td>0</td>\n    </tr>\n    <tr>\n      <th>Y</th>\n      <td>0</td>\n      <td>0</td>\n      <td>0</td>\n      <td>0</td>\n      <td>0</td>\n      <td>0</td>\n    </tr>\n    <tr>\n      <th rowspan=\"6\" valign=\"top\">Galley 2</th>\n      <th rowspan=\"2\" valign=\"top\">Service 1</th>\n      <th>J</th>\n      <td>0</td>\n      <td>0</td>\n      <td>0</td>\n      <td>0</td>\n      <td>0</td>\n      <td>0</td>\n    </tr>\n    <tr>\n      <th>Y</th>\n      <td>0</td>\n      <td>0</td>\n      <td>0</td>\n      <td>0</td>\n      <td>0</td>\n      <td>0</td>\n    </tr>\n    <tr>\n      <th rowspan=\"2\" valign=\"top\">Service 2</th>\n      <th>J</th>\n      <td>0</td>\n      <td>0</td>\n      <td>0</td>\n      <td>0</td>\n      <td>0</td>\n      <td>0</td>\n    </tr>\n    <tr>\n      <th>Y</th>\n      <td>0</td>\n      <td>0</td>\n      <td>0</td>\n      <td>0</td>\n      <td>0</td>\n      <td>0</td>\n    </tr>\n    <tr>\n      <th rowspan=\"2\" valign=\"top\">Service 3</th>\n      <th>J</th>\n      <td>0</td>\n      <td>0</td>\n      <td>0</td>\n      <td>0</td>\n      <td>0</td>\n      <td>0</td>\n    </tr>\n    <tr>\n      <th>Y</th>\n      <td>0</td>\n      <td>0</td>\n      <td>0</td>\n      <td>0</td>\n      <td>0</td>\n      <td>0</td>\n    </tr>\n  </tbody>\n</table>\n</div>",
            "text/plain": "                           Oven 1  Oven 2  Cart 1  Cart 2  Oven Total  \\\nGALLEY   SERVICE   CABINS                                               \nGalley 1 Service 1 J           31       8      30      10          39   \n                   Y            0       0       0       0           0   \n         Service 2 J            0       0       0       0           0   \n                   Y            0       0       0       0           0   \n         Service 3 J            0       0       0       0           0   \n                   Y            0       0       0       0           0   \nGalley 2 Service 1 J            0       0       0       0           0   \n                   Y            0       0       0       0           0   \n         Service 2 J            0       0       0       0           0   \n                   Y            0       0       0       0           0   \n         Service 3 J            0       0       0       0           0   \n                   Y            0       0       0       0           0   \n\n                           Cart Total  \nGALLEY   SERVICE   CABINS              \nGalley 1 Service 1 J               40  \n                   Y                0  \n         Service 2 J                0  \n                   Y                0  \n         Service 3 J                0  \n                   Y                0  \nGalley 2 Service 1 J                0  \n                   Y                0  \n         Service 2 J                0  \n                   Y                0  \n         Service 3 J                0  \n                   Y                0  "
          },
          "metadata": {}
        }
      ]
    },
    {
      "metadata": {
        "trusted": true
      },
      "cell_type": "code",
      "source": "show_totals = df_merge[['Oven Total', 'Cart Total']]\nshow_totals",
      "execution_count": 29,
      "outputs": [
        {
          "output_type": "execute_result",
          "execution_count": 29,
          "data": {
            "text/html": "<div>\n<style scoped>\n    .dataframe tbody tr th:only-of-type {\n        vertical-align: middle;\n    }\n\n    .dataframe tbody tr th {\n        vertical-align: top;\n    }\n\n    .dataframe thead th {\n        text-align: right;\n    }\n</style>\n<table border=\"1\" class=\"dataframe\">\n  <thead>\n    <tr style=\"text-align: right;\">\n      <th></th>\n      <th></th>\n      <th></th>\n      <th>Oven Total</th>\n      <th>Cart Total</th>\n    </tr>\n    <tr>\n      <th>GALLEY</th>\n      <th>SERVICE</th>\n      <th>CABINS</th>\n      <th></th>\n      <th></th>\n    </tr>\n  </thead>\n  <tbody>\n    <tr>\n      <th rowspan=\"6\" valign=\"top\">Galley 1</th>\n      <th rowspan=\"2\" valign=\"top\">Service 1</th>\n      <th>J</th>\n      <td>39</td>\n      <td>40</td>\n    </tr>\n    <tr>\n      <th>Y</th>\n      <td>0</td>\n      <td>0</td>\n    </tr>\n    <tr>\n      <th rowspan=\"2\" valign=\"top\">Service 2</th>\n      <th>J</th>\n      <td>0</td>\n      <td>0</td>\n    </tr>\n    <tr>\n      <th>Y</th>\n      <td>0</td>\n      <td>0</td>\n    </tr>\n    <tr>\n      <th rowspan=\"2\" valign=\"top\">Service 3</th>\n      <th>J</th>\n      <td>0</td>\n      <td>0</td>\n    </tr>\n    <tr>\n      <th>Y</th>\n      <td>0</td>\n      <td>0</td>\n    </tr>\n    <tr>\n      <th rowspan=\"6\" valign=\"top\">Galley 2</th>\n      <th rowspan=\"2\" valign=\"top\">Service 1</th>\n      <th>J</th>\n      <td>0</td>\n      <td>0</td>\n    </tr>\n    <tr>\n      <th>Y</th>\n      <td>0</td>\n      <td>0</td>\n    </tr>\n    <tr>\n      <th rowspan=\"2\" valign=\"top\">Service 2</th>\n      <th>J</th>\n      <td>0</td>\n      <td>0</td>\n    </tr>\n    <tr>\n      <th>Y</th>\n      <td>0</td>\n      <td>0</td>\n    </tr>\n    <tr>\n      <th rowspan=\"2\" valign=\"top\">Service 3</th>\n      <th>J</th>\n      <td>0</td>\n      <td>0</td>\n    </tr>\n    <tr>\n      <th>Y</th>\n      <td>0</td>\n      <td>0</td>\n    </tr>\n  </tbody>\n</table>\n</div>",
            "text/plain": "                           Oven Total  Cart Total\nGALLEY   SERVICE   CABINS                        \nGalley 1 Service 1 J               39          40\n                   Y                0           0\n         Service 2 J                0           0\n                   Y                0           0\n         Service 3 J                0           0\n                   Y                0           0\nGalley 2 Service 1 J                0           0\n                   Y                0           0\n         Service 2 J                0           0\n                   Y                0           0\n         Service 3 J                0           0\n                   Y                0           0"
          },
          "metadata": {}
        }
      ]
    },
    {
      "metadata": {
        "trusted": true
      },
      "cell_type": "code",
      "source": "",
      "execution_count": null,
      "outputs": []
    }
  ],
  "metadata": {
    "kernelspec": {
      "name": "python36",
      "display_name": "Python 3.6",
      "language": "python"
    },
    "language_info": {
      "mimetype": "text/x-python",
      "nbconvert_exporter": "python",
      "name": "python",
      "pygments_lexer": "ipython3",
      "version": "3.6.6",
      "file_extension": ".py",
      "codemirror_mode": {
        "version": 3,
        "name": "ipython"
      }
    }
  },
  "nbformat": 4,
  "nbformat_minor": 1
}